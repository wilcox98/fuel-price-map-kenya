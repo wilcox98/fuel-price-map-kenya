{
 "cells": [
  {
   "cell_type": "code",
   "execution_count": 1,
   "metadata": {},
   "outputs": [],
   "source": [
    "import pandas as pd\n",
    "from bs4 import BeautifulSoup\n",
    "import requests \n",
    "from selenium import webdriver\n",
    "from selenium.webdriver.common.by import By\n",
    "from selenium.webdriver.common.keys import Keys\n",
    "from selenium.webdriver.chrome.options import Options\n",
    "import numpy as np\n",
    "\n",
    "import helpers\n",
    "%load_ext dotenv\n",
    "%dotenv\n"
   ]
  },
  {
   "cell_type": "code",
   "execution_count": 2,
   "metadata": {},
   "outputs": [],
   "source": [
    "# get links from the website\n",
    "links =helpers.get_file_links()"
   ]
  },
  {
   "cell_type": "code",
   "execution_count": 3,
   "metadata": {},
   "outputs": [
    {
     "data": {
      "text/plain": [
       "['https://www.epra.go.ke/wp-content/uploads/2021/11/15th-November-14th-December-2021-1.csv',\n",
       " 'https://www.epra.go.ke/wp-content/uploads/2020/10/15th-January-14th-February-2022.xlsx',\n",
       " 'https://www.epra.go.ke/wp-content/uploads/2020/10/15th-February-14th-March-2022_Website.xlsx',\n",
       " 'https://www.epra.go.ke/wp-content/uploads/2020/10/15th-March-2022-to-April-2022.xlsx',\n",
       " 'https://www.epra.go.ke/wp-content/uploads/2020/07/15th-April-2022-14th-May-2022.csv',\n",
       " 'https://www.epra.go.ke/wp-content/uploads/2020/07/Pump-Prices11-15-May-14-June-2022_Website.xlsx',\n",
       " 'https://www.epra.go.ke/wp-content/uploads/2020/07/Pump-Prices-15-June-14-July-2022_Website.xlsx',\n",
       " 'https://www.epra.go.ke/wp-content/uploads/2020/07/Prices-july-to-August-2022.xlsx',\n",
       " 'https://www.epra.go.ke/wp-content/uploads/2020/07/Prices-August-to-September-2022.xlsx',\n",
       " 'https://www.epra.go.ke/wp-content/uploads/2020/07/Prices-september-to-october-2022.xlsx',\n",
       " 'https://www.epra.go.ke/wp-content/uploads/2020/07/Prices-Oct-to-Nov-2022.xlsx',\n",
       " 'https://www.epra.go.ke/wp-content/uploads/2020/07/Prices-15th-Nov-14th-Dec-2022.xlsx',\n",
       " 'https://www.epra.go.ke/wp-content/uploads/2020/07/15th-December-2022-14th-January-2023.xlsx',\n",
       " 'https://www.epra.go.ke/wp-content/uploads/2020/07/15th-December-2022-14th-January-2023.xlsx',\n",
       " 'https://www.epra.go.ke/wp-content/uploads/2020/07/15th-January-2023-%E2%80%9314th-February-2023-11.xlsx',\n",
       " 'https://www.epra.go.ke/wp-content/uploads/2020/07/15th-December-2022-14th-January-2023.xlsx',\n",
       " 'https://www.epra.go.ke/wp-content/uploads/2020/07/15th-January-2023-%E2%80%9314th-February-2023-11.xlsx',\n",
       " 'https://www.epra.go.ke/wp-content/uploads/2020/07/15th-December-2022-14th-January-2023.xlsx',\n",
       " 'https://www.epra.go.ke/wp-content/uploads/2020/07/FINAL-ACTUAL-PUMP-PRICES_15th-MARCH-14th-APRIL-2023.xlsx',\n",
       " 'https://www.epra.go.ke/wp-content/uploads/2020/07/15th-April-2023-to-14th-may-2023.csv',\n",
       " 'https://www.epra.go.ke/wp-content/uploads/2020/07/15th-April-2023-to-14th-may-2023.csv',\n",
       " 'https://www.epra.go.ke/wp-content/uploads/2020/07/15th-June-2023-14th-July-2023.csv',\n",
       " 'https://www.epra.go.ke/wp-content/uploads/2020/07/July-1-July-14-2023.csv',\n",
       " 'https://www.epra.go.ke/wp-content/uploads/2020/07/Pump-Prices-15-July-14-August-2023-Website.xlsx']"
      ]
     },
     "execution_count": 3,
     "metadata": {},
     "output_type": "execute_result"
    }
   ],
   "source": [
    "links"
   ]
  },
  {
   "cell_type": "code",
   "execution_count": 5,
   "metadata": {},
   "outputs": [
    {
     "name": "stdout",
     "output_type": "stream",
     "text": [
      "Downloading 15th-November-14th-December-2021-1\n",
      "Downloading finished 15th-November-14th-December-2021-1\n",
      "Downloading 15th-January-14th-February-2022\n",
      "Downloading finished 15th-January-14th-February-2022\n",
      "Downloading 15th-February-14th-March-2022_Website\n",
      "Downloading finished 15th-February-14th-March-2022_Website\n",
      "Downloading 15th-March-2022-to-April-2022\n",
      "Downloading finished 15th-March-2022-to-April-2022\n",
      "Downloading 15th-April-2022-14th-May-2022\n",
      "Downloading finished 15th-April-2022-14th-May-2022\n",
      "Downloading Pump-Prices11-15-May-14-June-2022_Website\n",
      "Downloading finished Pump-Prices11-15-May-14-June-2022_Website\n",
      "Downloading Pump-Prices-15-June-14-July-2022_Website\n",
      "Downloading finished Pump-Prices-15-June-14-July-2022_Website\n",
      "Downloading Prices-july-to-August-2022\n",
      "Downloading finished Prices-july-to-August-2022\n",
      "Downloading Prices-August-to-September-2022\n",
      "Downloading finished Prices-August-to-September-2022\n",
      "Downloading Prices-september-to-october-2022\n",
      "Downloading finished Prices-september-to-october-2022\n",
      "Downloading Prices-Oct-to-Nov-2022\n",
      "Downloading finished Prices-Oct-to-Nov-2022\n",
      "Downloading Prices-15th-Nov-14th-Dec-2022\n",
      "Downloading finished Prices-15th-Nov-14th-Dec-2022\n",
      "Downloading 15th-December-2022-14th-January-2023\n",
      "Downloading finished 15th-December-2022-14th-January-2023\n",
      "Downloading 15th-December-2022-14th-January-2023\n",
      "Downloading finished 15th-December-2022-14th-January-2023\n",
      "Downloading 15th-January-2023-%E2%80%9314th-February-2023-11\n",
      "Downloading finished 15th-January-2023-%E2%80%9314th-February-2023-11\n",
      "Downloading 15th-December-2022-14th-January-2023\n",
      "Downloading finished 15th-December-2022-14th-January-2023\n",
      "Downloading 15th-January-2023-%E2%80%9314th-February-2023-11\n",
      "Downloading finished 15th-January-2023-%E2%80%9314th-February-2023-11\n",
      "Downloading 15th-December-2022-14th-January-2023\n",
      "Downloading finished 15th-December-2022-14th-January-2023\n",
      "Downloading FINAL-ACTUAL-PUMP-PRICES_15th-MARCH-14th-APRIL-2023\n",
      "Downloading finished FINAL-ACTUAL-PUMP-PRICES_15th-MARCH-14th-APRIL-2023\n",
      "Downloading 15th-April-2023-to-14th-may-2023\n",
      "Downloading finished 15th-April-2023-to-14th-may-2023\n",
      "Downloading 15th-April-2023-to-14th-may-2023\n",
      "Downloading finished 15th-April-2023-to-14th-may-2023\n",
      "Downloading 15th-June-2023-14th-July-2023\n",
      "Downloading finished 15th-June-2023-14th-July-2023\n",
      "Downloading July-1-July-14-2023\n",
      "Downloading finished July-1-July-14-2023\n",
      "Downloading Pump-Prices-15-July-14-August-2023-Website\n",
      "Downloading finished Pump-Prices-15-July-14-August-2023-Website\n"
     ]
    }
   ],
   "source": [
    "#dowload all the files\n",
    "helpers.download_files(links)"
   ]
  }
 ],
 "metadata": {
  "kernelspec": {
   "display_name": "env",
   "language": "python",
   "name": "python3"
  },
  "language_info": {
   "codemirror_mode": {
    "name": "ipython",
    "version": 3
   },
   "file_extension": ".py",
   "mimetype": "text/x-python",
   "name": "python",
   "nbconvert_exporter": "python",
   "pygments_lexer": "ipython3",
   "version": "3.9.2"
  }
 },
 "nbformat": 4,
 "nbformat_minor": 2
}
